{
 "cells": [
  {
   "cell_type": "code",
   "execution_count": 5,
   "metadata": {},
   "outputs": [
    {
     "data": {
      "text/plain": [
       "'\\nvariable list\\nfloat P, T, S, SIG, SR, R1, R2, R3, R4\\nfloat A, B, C, D, E, A1, B1, AW, BW, K, KO, KW, K35\\n'"
      ]
     },
     "execution_count": 5,
     "metadata": {},
     "output_type": "execute_result"
    }
   ],
   "source": [
    "'''\n",
    "variable list\n",
    "float P, T, S, SIG, SR, R1, R2, R3, R4\n",
    "float A, B, C, D, E, A1, B1, AW, BW, K, KO, KW, K35\n",
    "'''\n"
   ]
  },
  {
   "cell_type": "code",
   "execution_count": 8,
   "metadata": {},
   "outputs": [],
   "source": [
    "import math"
   ]
  },
  {
   "cell_type": "code",
   "execution_count": 11,
   "metadata": {},
   "outputs": [],
   "source": [
    "# Input yang diterima program\n",
    "\n",
    "P0 = 10000 #tekanan dalam satuan desibar\n",
    "T = 40 #temperatur dalam satuan deg celcius\n",
    "S = 40 #salinitas (PSS-78)\n"
   ]
  },
  {
   "cell_type": "code",
   "execution_count": 12,
   "metadata": {},
   "outputs": [],
   "source": [
    "P = P0/10 # mengubah satuan tekanan menjadi BAR\n",
    "SR = math.sqrt(abs(S)) #mengambil akar dari salinitas"
   ]
  },
  {
   "cell_type": "code",
   "execution_count": 17,
   "metadata": {},
   "outputs": [],
   "source": [
    "#BIGG P.H(1967) BR. J  APPLIED PHYSICS 8 PP 521-537\n",
    "R1 = ((((6.536332e-9*T-1.120083e-6)*T+1.001685e-4)*T-9.095290e-3)*T+6.79392e-2)*T-28.263737\n",
    "#  \"A\" NOTATION OF MILLERO AND POISSON 1981\n",
    "R2 = (((5.3875e-9*T-8.2467e-7)*T+7.6438e-5)*T-4.0899e-3)*T+8.24493e-1\n",
    "# \"B\" NOTATION OF MILLERO AND POISSON 1981\n",
    "R3 = (-1.6546e-9*T+1.0227e-4)*T-5.72466e-3\n",
    "# INTERNATIONAL ONE-ATMOSPHERE EQUATION OF STATE OF SEAWATER\n",
    "R4 = 4.8314e-4\n",
    "\n",
    "R3500 = 1028.1063\n",
    "DR350 = 28.106331\n",
    "\n"
   ]
  },
  {
   "cell_type": "code",
   "execution_count": 20,
   "metadata": {},
   "outputs": [],
   "source": [
    "#Olah data\n",
    "SIG = (R4*S + R3*SR + R2)*S + R1\n",
    "V350P = 1.0/R3500\n",
    "SVA = -SIG*V350P/(R3500+SIG)\n",
    "SIGMA = SIG+DR350\n",
    "SVAN = SVA*1.0e+8\n",
    "#if P == 0.0:\n"
   ]
  },
  {
   "cell_type": "code",
   "execution_count": 27,
   "metadata": {},
   "outputs": [],
   "source": [
    "E = (9.1697e-10*T+2.0816e-8)*T-9.9348e-7\n",
    "BW = (5.2787e-8*T-612293e-6)*T+3.47718e-5\n",
    "B = BW + E*S\n",
    "\n",
    "D = 1.91075e-4\n",
    "C = (-1.6078e-6*T-1.0981e-5)*T+2.2838e-3\n",
    "AW = ((-5.77905e-7*T+1.16092e-4)*T+1.43713e-3)*T-0.1194975\n",
    "A = (D*SR +C)*S +AW\n",
    "\n",
    "B1 = (-5.30009e-4*T+1.6483e-2)*T+7.944e-2\n",
    "A1 = ((-6.1670e-5*T+1.360477e-2)*T-0.603459)*T+54.6746\n",
    "KW = (((-5.155288e-5*T+1.260477e-2)*T-2.327105)*T+148.4206)*T-1930.06\n",
    "KD = (B1*SR + A1) * S + KW\n",
    "\n",
    "DK = (B*P+A)*P + KD\n",
    "K35 = (5.03217e-5*P+3.359406)*P+21582.27\n",
    "GAM = P/K35\n",
    "PK = 1.0 - GAM\n",
    "SVA = SVA*PK + (V350P + SVA)*P*DK/(K35*(K35+DK))\n",
    "\n",
    "SVAN = SVA*1.0e+8\n",
    "V350P = V350P*PK\n"
   ]
  },
  {
   "cell_type": "code",
   "execution_count": 29,
   "metadata": {},
   "outputs": [
    {
     "name": "stdout",
     "output_type": "stream",
     "text": [
      "42.85205062352935\n"
     ]
    }
   ],
   "source": [
    "DR35P = GAM/V350P\n",
    "DVAN = SVA/(V350P*(V350P+SVA))\n",
    "SIGMA = DR350+DR35P-DVAN\n",
    "print()"
   ]
  }
 ],
 "metadata": {
  "interpreter": {
   "hash": "b141f62e8acd4fd2db3b38e2efbfb6bac88746dd93e49e6a7e3318edbc9b371d"
  },
  "kernelspec": {
   "display_name": "Python 3.9.7 64-bit (conda)",
   "language": "python",
   "name": "python3"
  },
  "language_info": {
   "codemirror_mode": {
    "name": "ipython",
    "version": 3
   },
   "file_extension": ".py",
   "mimetype": "text/x-python",
   "name": "python",
   "nbconvert_exporter": "python",
   "pygments_lexer": "ipython3",
   "version": "3.9.7"
  },
  "orig_nbformat": 4
 },
 "nbformat": 4,
 "nbformat_minor": 2
}
